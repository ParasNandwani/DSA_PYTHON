{
  "nbformat": 4,
  "nbformat_minor": 0,
  "metadata": {
    "colab": {
      "name": "dsa1fizzbuzz.ipynb",
      "provenance": [],
      "authorship_tag": "ABX9TyNzqhAEqOvfgcJbzhWReeGR",
      "include_colab_link": true
    },
    "kernelspec": {
      "name": "python3",
      "display_name": "Python 3"
    },
    "language_info": {
      "name": "python"
    }
  },
  "cells": [
    {
      "cell_type": "markdown",
      "metadata": {
        "id": "view-in-github",
        "colab_type": "text"
      },
      "source": [
        "<a href=\"https://colab.research.google.com/github/ParasNandwani/DSA_PYTHON/blob/main/dsa1fizzbuzz.ipynb\" target=\"_parent\"><img src=\"https://colab.research.google.com/assets/colab-badge.svg\" alt=\"Open In Colab\"/></a>"
      ]
    },
    {
      "cell_type": "code",
      "metadata": {
        "colab": {
          "base_uri": "https://localhost:8080/"
        },
        "id": "diZLj7pvtJtj",
        "outputId": "d6ccca76-c922-4049-9fcc-989889c67132"
      },
      "source": [
        "#Print fizbuzz\n",
        "\n",
        "def printFizzBuzz(val):\n",
        "    numVector=[]\n",
        "    for num in range(1,val):\n",
        "      if num%15==0:\n",
        "        numVector.append(\"FizzBuzz\")\n",
        "      elif num%3==0:\n",
        "        numVector.append(\"Fizz\")\n",
        "      elif num%5==0:\n",
        "        numVector.append(\"Buzz\")\n",
        "      else:\n",
        "        numVector.append(num)\n",
        "\n",
        "    return numVector\n",
        "\n",
        "\n",
        "print(printFizzBuzz(16))"
      ],
      "execution_count": 3,
      "outputs": [
        {
          "output_type": "stream",
          "text": [
            "[1, 2, 'Fizz', 4, 'Buzz', 'Fizz', 7, 8, 'Fizz', 'Buzz', 11, 'Fizz', 13, 14, 'FizzBuzz']\n"
          ],
          "name": "stdout"
        }
      ]
    }
  ]
}